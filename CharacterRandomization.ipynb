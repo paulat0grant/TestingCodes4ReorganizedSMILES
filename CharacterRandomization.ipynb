{
 "cells": [
  {
   "cell_type": "code",
   "execution_count": null,
   "id": "4973869b-db82-4f9b-9851-62cdc5031e06",
   "metadata": {},
   "outputs": [],
   "source": [
    "#Ipython code for reorganizing SMILES string through Random arrangement of Character#\n",
    "#The codes are generated using Meta Platform INC's LLM i.e. \"Meta.ai\" #\n",
    "#Initial code obtained on 10Dec2024 #\n",
    "\n",
    "import itertools\n",
    "\n",
    "def generate_permutations(word):\n",
    "    # Generate all permutations of the word\n",
    "    permutations = [''.join(p) for p in itertools.permutations(word)]\n",
    "    \n",
    "    return permutations\n",
    "\n",
    "def remove_duplicates(permutations):\n",
    "    # Convert the list to a set to remove duplicates and then convert it back to a list\n",
    "    permutations = list(set(permutations))\n",
    "    \n",
    "    return permutations\n",
    "\n",
    "def export_to_file(permutations, filename):\n",
    "    with open(filename, 'w') as f:\n",
    "        for permutation in permutations:\n",
    "            f.write(permutation + '\\n')\n",
    "\n",
    "def main():\n",
    "    word = input(\"Enter a word: \")\n",
    "    permutations = generate_permutations(word)\n",
    "    permutations = remove_duplicates(permutations)\n",
    "    \n",
    "    filename = input(\"Enter the filename to save the permutations (default: permutations.txt): \")\n",
    "    if not filename:\n",
    "        filename = \"permutationsAA.txt\"\n",
    "    if not filename.endswith(\".txt\"):\n",
    "        filename += \".txt\"\n",
    "    \n",
    "    export_to_file(permutations, filename)\n",
    "    print(f\"Permutations exported to {filename}\")\n",
    "\n",
    "if __name__ == \"__main__\":\n",
    "    main()\n"
   ]
  }
 ],
 "metadata": {
  "kernelspec": {
   "display_name": "Python 3 (ipykernel)",
   "language": "python",
   "name": "python3"
  },
  "language_info": {
   "codemirror_mode": {
    "name": "ipython",
    "version": 3
   },
   "file_extension": ".py",
   "mimetype": "text/x-python",
   "name": "python",
   "nbconvert_exporter": "python",
   "pygments_lexer": "ipython3",
   "version": "3.11.0"
  }
 },
 "nbformat": 4,
 "nbformat_minor": 5
}
