{
 "cells": [
  {
   "cell_type": "code",
   "execution_count": null,
   "id": "f3308c20-425a-4ec7-937a-037c0cb47d2c",
   "metadata": {},
   "outputs": [],
   "source": [
    "#Alternative Ipython code for Reverse String Operation#\n",
    "#It will perform the task recursively to all the SMILES string in the File#\n",
    "#The codes are generated using Meta Platform INC's LLM i.e. \"Meta.ai\" #\n",
    "#Initial code obtained on 10Dec2024 #"
   ]
  },
  {
   "cell_type": "code",
   "execution_count": null,
   "id": "28eab829-3c94-4988-b5a8-ca63f832175a",
   "metadata": {},
   "outputs": [],
   "source": [
    "def reverse_characters(input_filename, output_filename):\n",
    "    try:\n",
    "        with open(input_filename, 'r') as file:\n",
    "            lines = file.readlines()\n",
    "            reversed_lines = [line.strip()[::-1] + '\\n' for line in lines]\n",
    "            \n",
    "            with open(output_filename, 'w') as outfile:\n",
    "                outfile.writelines(reversed_lines)\n",
    "                \n",
    "            print(f\"Output saved to '{output_filename}'\")\n",
    "    except FileNotFoundError:\n",
    "        print(f\"File '{input_filename}' not found.\")\n",
    "\n",
    "# Example usage\n",
    "input_filename = input(\"Enter the name of the input file: \")\n",
    "output_filename = input(\"Enter the desired name of the output file: \")\n",
    "reverse_characters(input_filename, output_filename)"
   ]
  },
  {
   "cell_type": "code",
   "execution_count": null,
   "id": "ab2217d8-2f69-4c5e-bcaf-35bab618c016",
   "metadata": {},
   "outputs": [],
   "source": [
    "def replace_parentheses(input_filename, output_filename):\n",
    "    try:\n",
    "        with open(input_filename, 'r') as file:\n",
    "            text = file.read()\n",
    "            modified_text = text.replace(')', '#').replace('(', ')').replace('#', '(')\n",
    "            \n",
    "            with open(output_filename, 'w') as outfile:\n",
    "                outfile.write(modified_text)\n",
    "                \n",
    "            print(f\"Output saved to '{output_filename}'\")\n",
    "    except FileNotFoundError:\n",
    "        print(f\"File '{input_filename}' not found.\")\n",
    "\n",
    "# Example usage\n",
    "input_filename = input(\"Enter the name of the input file: \")\n",
    "output_filename = input(\"Enter the desired name of the output file: \")\n",
    "replace_parentheses(input_filename, output_filename)"
   ]
  }
 ],
 "metadata": {
  "kernelspec": {
   "display_name": "Python 3 (ipykernel)",
   "language": "python",
   "name": "python3"
  },
  "language_info": {
   "codemirror_mode": {
    "name": "ipython",
    "version": 3
   },
   "file_extension": ".py",
   "mimetype": "text/x-python",
   "name": "python",
   "nbconvert_exporter": "python",
   "pygments_lexer": "ipython3",
   "version": "3.11.0"
  }
 },
 "nbformat": 4,
 "nbformat_minor": 5
}
